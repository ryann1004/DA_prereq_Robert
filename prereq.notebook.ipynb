{
 "cells": [
  {
   "cell_type": "code",
   "execution_count": null,
   "id": "90bfa501",
   "metadata": {
    "vscode": {
     "languageId": "plaintext"
    }
   },
   "outputs": [],
   "source": [
    "<!DOCTYPE html>\n",
    "<html lang=\"en\">\n",
    "<head>\n",
    "    <title>Hello, Code You</title>\n",
    "</head>\n",
    "<body>\n",
    "  <p>I have listed things I am excited to learn in this course.</p>\n",
    "    <ul>\n",
    "        <li>Learning how to analyze data.</li>\n",
    "        <li>Learning how to integrate AI into Data Analysis.</li>\n",
    "        <li>How to make this my full time career.</li>\n",
    "    </ul>\n",
    "</body>\n",
    "</html>\n"
   ]
  }
 ],
 "metadata": {
  "language_info": {
   "name": "python"
  }
 },
 "nbformat": 4,
 "nbformat_minor": 5
}
